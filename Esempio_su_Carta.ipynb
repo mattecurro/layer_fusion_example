{
 "cells": [
  {
   "cell_type": "markdown",
   "id": "44da80ff",
   "metadata": {},
   "source": [
    "**Arch:**  \\\n",
    "    DRAM, GB, SAC, SAR, InReg, WReg, OutReg \n",
    "\n",
    "**Dimensions:** \\\n",
    "    P = 6, P_Stride = 1; Q = 6, Q_Stride = 1; R1 = 3, S1 = 3; C1 = 4; C2 = 2, \\\n",
    "    Y = 8;               X = 8              ; R0 = 3, S0 = 3;  Z = 4; C0 = 2    \n",
    "\n",
    "\n",
    "<b>Mapping:</b>\n",
    "<pre>\n",
    "    <b>DRAM</b>:  \n",
    "        P1 in 2:\n",
    "            Q1 in 3:\n",
    "                C1_1 in 2:\n",
    "    <b>GB</b>:                                                                              <i style=\"color: orange\">Scale_Convolution[0] = 1</i>, Scale_Convolution[1] = 12\n",
    "                    P2 in 3:\n",
    "                        <i style=\"color: orange\">X2 in 2:</i>\n",
    "                            R1_2 in 3:\n",
    "                                <i style=\"color: orange\">Y2 in 4:</i>\n",
    "    <b>SAC</b>:                                                                             <i style=\"color: orange\">Scale_Convolution[0] = 8</i>, Scale_Convolution[1] = 108</i>\n",
    "                                    <i style=\"color: orange\">Y3 in 2:</i>\n",
    "                                        Q3 in 2:\n",
    "    <b>SAR</b>:                                                                             <i style=\"color: orange\">Scale_Convolution[0] = 16</i>, Scale_Convolution[1] = 216</i>\n",
    "                                            C1_4 in 2:\n",
    "    <b>INReg</b>:                                                                           <i style=\"color: orange\">Scale_Convolution[0] = 16</i>, Scale_Convolution[1] = 432</i>\n",
    "                                                S1_5 in 3:\n",
    "                                                    <i style=\"color: orange\">Z5 in 4:</i> \n",
    "    <b>WReg</b>:                                                                            <i style=\"color: orange\">Scale_Convolution[0] = 64</i>, Scale_Convolution[1] = 1296</i>\n",
    "                                                        C2_6 in 2:\n",
    "    <b>OutR</b>:                                                                            <i style=\"color: orange\">Scale_Convolution[0] = 64</i>, Scale_Convolution[1] = 2592</i>\n",
    "                                                            <i style=\"color: orange\">X7 in 4:</i>\n",
    "                                                                <i style=\"color: orange\">S0_7 in 3:</i>\n",
    "                                                                    <i style=\"color: orange\">R0_7 in 3:</i>\n",
    "                                                                        <i style=\"color: orange\">C0_7 in 3:</i>\n",
    "                                                                            <span style=\"color: orange\">Intermediate_Output[z, y, x] += Input[c0, [y, ro], [x, s0]] * W0[z, c0, r0, s0]</span>\n",
    "                                                                            <span>Output[c2, p, q] += Intermediate_Input[c1, [p, r1], [q, s1]] * W1[c2, c1, r1, s1]</span>\n",
    "</pre>"
   ]
  },
  {
   "cell_type": "markdown",
   "id": "7449fcc5",
   "metadata": {},
   "source": [
    "![alt text](IMG_20251009_104815.jpg)\n",
    "<pre>\n",
    "<b style=\"color: lightseagreen\">Sintax:</b>     The iteration number starts from GB, where there is the possibility of having reuse\n",
    "   Input_Reads    ,    Weight0_Reads  ,   Int_Out_Reads  , Int_Out_Writes, Int_In_Reads, Int_In_Writes,    Weight1_Reads  ,   Output_Reads    ,   Output_Writes        \n",
    "<b style=\"color: lightseagreen\">OutReg</b>:                                              <i style=\"color: orange\">Scale_Convolution[0] = 64</i>, <b style=\"color: green\">Scale_Convolution[1] = 2592</b>\n",
    "   :      0     ,        0        ,     1*<b style=\"color:orange\">64</b>=64,   0     ,       0   ,      0  , 0 ,     1*<b style=\"color:green\">2592</b>   ,    <b style=\"color:green\">2592</b>1*2592\n",
    "</pre>\n",
    "\n",
    "![alt text](IMG-20251009-WA0035.jpg)\n",
    "<pre>\n",
    "<b style=\"color: lightseagreen\">Sintax:</b>     The iteration number starts from GB, where there is the possibility of having reuse\n",
    "   Input_Reads    ,    Weight0_Reads  ,   Int_Out_Reads  , Int_Out_Writes, Int_In_Reads, Int_In_Writes,    Weight1_Reads  ,   Output_Reads    ,   Output_Writes        \n",
    "<b style=\"color: lightseagreen\">WReg</b>:                                              <i style=\"color: orange\">Scale_Convolution[0] = 64</i>, <b style=\"color: green\">Scale_Convolution[1] = 1296</b>\n",
    "                 :      0           ,    1*3^3*<b style=\"color:orange\">64</b> = 1728, 0, 0,0 ,    0 ,   2*1*<b style=\"color:green\">1296</b>=2592  ,      0       ,        0\n",
    "</pre>\n",
    "\n",
    "![alt text](IMG-20251009-WA0033.jpg)\n",
    "<pre>\n",
    "<b style=\"color: lightseagreen\">Sintax:</b>     The iteration number starts from GB, where there is the possibility of having reuse\n",
    "   Input_Reads    ,    Weight0_Reads  ,   Int_Out_Reads  , Int_Out_Writes, Int_In_Reads, Int_In_Writes,    Weight1_Reads  ,   Output_Reads    ,   Output_Writes        \n",
    "\n",
    "<b style=\"color: lightseagreen\">InReg</b>:                                              <i style=\"color: orange\">Scale_Convolution[0] = 16</i>, <b style=\"color: green\">Scale_Convolution[1] = 432</b>\n",
    "              : 4*(3*6*3)*<b style=\"color:orange\">16</b> = 3456 , 0 , 0, 0, 3*(2)*<b style=\"color: green\">432</b> = 2592 , 0 ,       0           ,       0       ,       0    \n",
    "</pre>\n",
    "\n",
    "![alt text](IMG-20251009-WA0031.jpg)\n",
    "![alt text](IMG-20251009-WA0028.jpg)\n",
    "![alt text](IMG-20251009-WA0050.jpg)\n",
    "<pre>\n",
    "<b style=\"color: lightseagreen\">Sintax:</b>     \n",
    "   Input_Reads    ,    Weight0_Reads  ,   Int_Out_Reads  , Int_Out_Writes, Int_In_Reads, Int_In_Writes,    Weight1_Reads  ,   Output_Reads    ,   Output_Writes        \n",
    "\n",
    "<b style=\"color: lightseagreen\">GB</b>:                                              <i style=\"color: orange\">Scale_Convolution[0] = 1</i>, <b style=\"color: green\">Scale_Convolution[1] = 12</b>\n",
    "              : 8*(4*6*3)-6*(2*6)=504 , 1*(27*4)=108, 8*(2*4*4)=256, 0, (9*(3*4*2)-6*(2*4*2))*<b style=\"color: green\">12</b>=1440 , 0, 9*(3*2)*<b style=\"color: green\">12=648 , 9*2*2-6*2*2<b style=\"color: green\">12= 144   \n",
    "</pre>\n",
    "![alt text](IMG-20251009-WA0072.jpg)\n",
    "<pre>\n",
    "<b style=\"color: lightseagreen\">Sintax:</b>     \n",
    "    Input_Reads    ,    Weight0_Reads  ,   Int_Out_Reads  , Int_Out_Writes, Int_In_Reads, Int_In_Writes,    Weight1_Reads  ,   Output_Reads    ,   Output_Writes        \n",
    "\n",
    "<b style=\"color: lightseagreen\">DRAM</b>:                                              <i style=\"color: orange\">Scale_Convolution[0] = 1</i>, <b style=\"color: green\">Scale_Convolution[1] = 1</b>\n",
    "              : 300 , 108, 256 , 0, 12*(4*5)=240 , 0, 12*9=108, 6*12=72    "
   ]
  },
  {
   "cell_type": "markdown",
   "id": "808672f5",
   "metadata": {},
   "source": []
  },
  {
   "cell_type": "code",
   "execution_count": null,
   "id": "604aa5cd",
   "metadata": {
    "vscode": {
     "languageId": "plaintext"
    }
   },
   "outputs": [],
   "source": []
  }
 ],
 "metadata": {
  "language_info": {
   "name": "python"
  }
 },
 "nbformat": 4,
 "nbformat_minor": 5
}
