{
 "cells": [
  {
   "cell_type": "markdown",
   "id": "44da80ff",
   "metadata": {},
   "source": [
    "**Arch:**  \\\n",
    "    DRAM, GB, SAC, SAR, InReg, WReg, OutReg \n",
    "\n",
    "**Dimensions:** \\\n",
    "    P = 6, P_Stride = 1; Q = 6, Q_Stride = 1; R1 = 3, S1 = 3; C1 = 4; C2 = 2, \\\n",
    "    Y = 8;               X = 8              ; R0 = 3, S0 = 3;  Z = 4; C0 = 3    \n",
    "\n",
    "\n",
    "<b>Mapping:</b>\n",
    "<pre>\n",
    "    <b>DRAM</b>:  \n",
    "        P<sub>1</sub> in 2:\n",
    "            Q<sub>1</sub> in 3:\n",
    "                C1<sub>1</sub> in 2:\n",
    "    <b>GB</b>:                                                                              <i style=\"color: orange\">Scale_Convolution[0] = 1</i>, Scale_Convolution[1] = 12\n",
    "                    P<sub>2</sub> in 3:\n",
    "                        <i style=\"color: orange\">X<sub>2</sub> in 2:</i>\n",
    "                            R1<sub>2</sub> in 3:\n",
    "                                <i style=\"color: orange\">Y<sub>2</sub> in 4:</i>\n",
    "    <b>SAC</b>:                                                                             <i style=\"color: orange\">Scale_Convolution[0] = 8</i>, Scale_Convolution[1] = 108</i>\n",
    "                                    <i style=\"color: orange\">Y<sub>3</sub> in 2:</i>\n",
    "                                        Q<sub>3</sub> in 2:\n",
    "    <b>SAR</b>:                                                                             <i style=\"color: orange\">Scale_Convolution[0] = 16</i>, Scale_Convolution[1] = 216</i>\n",
    "                                            C1<sub>4</sub> in 2:\n",
    "    <b>INReg</b>:                                                                           <i style=\"color: orange\">Scale_Convolution[0] = 16</i>, Scale_Convolution[1] = 432</i>\n",
    "                                                S1<sub>5</sub> in 3:\n",
    "                                                    <i style=\"color: orange\">Z<sub>5</sub> in 4:</i> \n",
    "    <b>WReg</b>:                                                                            <i style=\"color: orange\">Scale_Convolution[0] = 64</i>, Scale_Convolution[1] = 1296</i>\n",
    "                                                        C2<sub>6</sub> in 2:\n",
    "    <b>OutR</b>:                                                                            <i style=\"color: orange\">Scale_Convolution[0] = 64</i>, Scale_Convolution[1] = 2592</i>\n",
    "                                                            <i style=\"color: orange\">X<sub>7</sub> in 4:</i>\n",
    "                                                                <i style=\"color: orange\">S0<sub>7</sub> in 3:</i>\n",
    "                                                                    <i style=\"color: orange\">R0<sub>7</sub> in 3:</i>\n",
    "                                                                        <i style=\"color: orange\">C0<sub>7</sub> in 3:</i>\n",
    "                                                                            <span style=\"color: orange\">Intermediate_Output[z, y, x] += Input[c0, [y, ro], [x, s0]] * W0[z, c0, r0, s0]</span>\n",
    "                                                                            <span>Output[c2, p, q] += Intermediate_Input[c1, [p, r1], [q, s1]] * W1[c2, c1, r1, s1]</span>\n",
    "</pre>"
   ]
  },
  {
   "cell_type": "markdown",
   "id": "7449fcc5",
   "metadata": {},
   "source": [
    "![alt text](IMG_20251009_104815.jpg)\n",
    "\n",
    "**OutReg:** <i style=\"color: orange\">Scale_Convolution[0] = 64</i>, <b style=\"color: green\">Scale_Convolution[1] = 2592</b>\n",
    "\n",
    "| Input_Reads | Weight0_Reads | Int_Out_Reads | Int_Out_Writes | Int_In_Reads | Int_In_Writes | Weight1_Reads | Output_Reads | Output_Writes |\n",
    "|-------------|---------------|---------------|----------------|--------------|---------------|---------------|--------------|---------------|\n",
    "| 0 | 0 | 1 * <b style=\"color:orange\">64</b> = 64 | 64 | 1 * <b style=\"color:green\">1296</b> = 1296 | 1296 | 0 | 1 * <b style=\"color:green\">1296</b> = 1296 | 1296 |\n",
    "\n",
    "![alt text](IMG-20251009-WA0035.jpg)\n",
    "\n",
    "**WReg:** <i style=\"color: orange\">Scale_Convolution[0] = 64</i>, <b style=\"color: green\">Scale_Convolution[1] = 1296</b>\n",
    "\n",
    "| Input_Reads | Weight0_Reads | Int_Out_Reads | Int_Out_Writes | Int_In_Reads | Int_In_Writes | Weight1_Reads | Output_Reads | Output_Writes |\n",
    "|-------------|---------------|---------------|----------------|--------------|---------------|---------------|--------------|---------------|\n",
    "| 0 | 1 * 3³ * <b style=\"color:orange\">32</b> = 864 | 0 | 0 | 0 | 0 | 2 * 1 * <b style=\"color:green\">1296</b> = 2592 | 0 | 0 |\n",
    "\n",
    "![alt text](IMG-20251009-WA0033.jpg)\n",
    "\n",
    "**InReg:** <i style=\"color: orange\">Scale_Convolution[0] = 16</i>, <b style=\"color: green\">Scale_Convolution[1] = 432</b>\n",
    "\n",
    "| Input_Reads | Weight0_Reads | Int_Out_Reads | Int_Out_Writes | Int_In_Reads | Int_In_Writes | Weight1_Reads | Output_Reads | Output_Writes |\n",
    "|-------------|---------------|---------------|----------------|--------------|---------------|---------------|--------------|---------------|\n",
    "| 4 * (3 * (3 * 4) * 3) * <b style=\"color:orange\">16</b> = 6912 | 0 | 4 * (1 * 4 * 1) * <b style=\"color:orange\">16</b> = 256 | 256 | 3 * (1) * <b style=\"color:green\">432</b> = 2592 | 0 | 0 | 0 | 0 |\n",
    "\n",
    "![alt text](IMG-20251009-WA0031.jpg)\n",
    "![alt text](IMG-20251010-WA0026.jpg)\n",
    "![alt text](1000322192.jpg)\n",
    "\n",
    "**GB:** <i style=\"color: orange\">Scale_Convolution[0] = 1</i>, <b style=\"color: green\">Scale_Convolution[1] = 12</b>\n",
    "\n",
    "| Input_Reads | Weight0_Reads | Int_Out_Reads | Int_Out_Writes | Int_In_Reads | Int_In_Writes | Weight1_Reads | Output_Reads | Output_Writes |\n",
    "|-------------|---------------|---------------|----------------|--------------|---------------|---------------|--------------|---------------|\n",
    "| 8 * (6 * 6 * 3) = 864 | 8 * (27 * 4) = 864 | 8 * (2 * 4 * 4) = 256 | 256 | 9 * (1 * 6 * 2) * <b style=\"color:green\">12</b> = 1296 | 1296 | 9 * (2 * 3 * 2) * <b style=\"color:green\">12</b> = 1296 |  9 * (2 * 2) * <b style=\"color:green\">12</b> = 432 | 432 |\n",
    "\n",
    "![alt text](IMG-20251009-WA0072.jpg)\n",
    "\n",
    "**DRAM:** <i style=\"color: orange\">Scale_Convolution[0] = 1</i>, <b style=\"color: green\">Scale_Convolution[1] = 1</b>\n",
    "\n",
    "| Input_Reads | Weight0_Reads | Int_Out_Reads | Int_Out_Writes | Int_In_Reads | Int_In_Writes | Weight1_Reads | Output_Reads | Output_Writes |\n",
    "|-------------|---------------|---------------|----------------|--------------|---------------|---------------|--------------|---------------|\n",
    "| 300 | 108 | 256 | 256 | 12 * (4 * 5 * 2) = 480 | 480 | 12 * 36 = 432 | 6 * 12 = 72 | 72 |"
   ]
  },
  {
   "cell_type": "markdown",
   "id": "808672f5",
   "metadata": {},
   "source": []
  },
  {
   "cell_type": "code",
   "execution_count": null,
   "id": "604aa5cd",
   "metadata": {
    "vscode": {
     "languageId": "plaintext"
    }
   },
   "outputs": [],
   "source": []
  }
 ],
 "metadata": {
  "language_info": {
   "name": "python"
  }
 },
 "nbformat": 4,
 "nbformat_minor": 5
}
